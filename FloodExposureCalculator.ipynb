{
 "cells": [
  {
   "cell_type": "code",
   "execution_count": null,
   "metadata": {
    "collapsed": false,
    "deletable": true,
    "editable": true
   },
   "outputs": [],
   "source": [
    "#modules required for algorithm\n",
    "import os\n",
    "import rtree\n",
    "import re\n",
    "from shapely.geometry import shape, Point\n",
    "import datetime\n",
    "import pandas as pd\n",
    "import geopandas as gpd\n",
    "import warnings\n",
    "from operator import itemgetter\n",
    "\n",
    "#modules required for the interface\n",
    "import ipywidgets as widgets\n",
    "from IPython.display import display"
   ]
  },
  {
   "cell_type": "markdown",
   "metadata": {
    "deletable": true,
    "editable": true
   },
   "source": [
    "# Flood Exposure Calculator"
   ]
  },
  {
   "cell_type": "markdown",
   "metadata": {
    "deletable": true,
    "editable": true
   },
   "source": [
    "version 1.0\n",
    "\n",
    "by Robert Bertsch 2020"
   ]
  },
  {
   "cell_type": "markdown",
   "metadata": {
    "deletable": true,
    "editable": true
   },
   "source": [
    "#### paste folder path containing depth files:"
   ]
  },
  {
   "cell_type": "code",
   "execution_count": null,
   "metadata": {
    "collapsed": false,
    "deletable": true,
    "editable": true
   },
   "outputs": [],
   "source": [
    "folder_input = widgets.Text()\n",
    "display(folder_input)\n",
    "folder_input.width = '100%'\n",
    "\n",
    "def handle_submit(sender):\n",
    "    print(folder_input.value)"
   ]
  },
  {
   "cell_type": "markdown",
   "metadata": {
    "deletable": true,
    "editable": true
   },
   "source": [
    "#### paste file path to building shapefile:"
   ]
  },
  {
   "cell_type": "code",
   "execution_count": null,
   "metadata": {
    "collapsed": false,
    "deletable": true,
    "editable": true
   },
   "outputs": [],
   "source": [
    "bldgs_shp = widgets.Text()\n",
    "display(bldgs_shp)\n",
    "\n",
    "def handle_submit(sender):\n",
    "    print(bldgs_shp.value)"
   ]
  },
  {
   "cell_type": "markdown",
   "metadata": {
    "deletable": true,
    "editable": true
   },
   "source": [
    "#### select building ID column from shapefile - refresh field after populating above:"
   ]
  },
  {
   "cell_type": "code",
   "execution_count": null,
   "metadata": {
    "collapsed": false,
    "deletable": true,
    "editable": true
   },
   "outputs": [],
   "source": [
    "cols_list = []\n",
    "if bldgs_shp.value == '':\n",
    "        print('Provide path to shapefile above and update field')\n",
    "elif bldgs_shp.value != '':\n",
    "    df1 = gpd.read_file(bldgs_shp.value[1:-1])  \n",
    "    for n in df1.columns:\n",
    "        cols_list.append(n)\n",
    "\n",
    "shp_field = widgets.Dropdown(options=[i for i in cols_list], description='Select column:')\n",
    "display(shp_field)\n",
    "shp_field.background_color = 'lightgreen'"
   ]
  },
  {
   "cell_type": "markdown",
   "metadata": {
    "deletable": true,
    "editable": true
   },
   "source": [
    "#### specify buffer distance (in % of grid resolution) - default = 150:"
   ]
  },
  {
   "cell_type": "code",
   "execution_count": null,
   "metadata": {
    "collapsed": false,
    "deletable": true,
    "editable": true
   },
   "outputs": [],
   "source": [
    "buffer_value = widgets.FloatText(value=150)\n",
    "display(buffer_value)\n",
    "buffer_value.width = '50%'\n",
    "\n",
    "def handle_submit(sender):\n",
    "    print(buffer_value.value)"
   ]
  },
  {
   "cell_type": "code",
   "execution_count": null,
   "metadata": {
    "collapsed": false,
    "deletable": true,
    "editable": true
   },
   "outputs": [],
   "source": [
    "def process_data(ev):\n",
    "\n",
    "    T_start = datetime.datetime.now()\n",
    "    bldg_file = bldgs_shp.value.replace(\"\\\\\",\"/\")[1:-1]\n",
    "    input_folder = folder_input.value\n",
    "    \n",
    "    if not os.path.exists(os.path.dirname(input_folder) + '/Outputs_Events'):\n",
    "        os.makedirs(os.path.dirname(input_folder) + '/Outputs_Events')\n",
    "      \n",
    "    #summary_name = 'test_run'\n",
    "    \n",
    "    #Creating the spatial index with the rtree module is only done for one depth file using X,Y only\n",
    "    print('...creating spatial index...')\n",
    "    file_count = sorted(os.listdir(input_folder))\n",
    "\n",
    "    #first get the resolution of the grid:\n",
    "    df_res = pd.read_csv(input_folder + '/' + file_count[0], nrows=3)\n",
    "    xdiff = df_res.iloc[2,0] - df_res.iloc[1,0]\n",
    "    ydiff = df_res.iloc[2,1] - df_res.iloc[1,1]\n",
    "    if xdiff != 0:\n",
    "        dx = xdiff\n",
    "    elif xdiff == 0:\n",
    "        dx = ydiff\n",
    "    del(df_res)     \n",
    "    buffer_distance = ((buffer_value.value)/100)*dx #in % of grid resolution\n",
    "\n",
    "    x=[]\n",
    "    y=[]\n",
    "    with open(input_folder + '/' + file_count[0], 'r') as t:\n",
    "        aline = t.readline().strip()       \n",
    "        aline = t.readline()\n",
    "        while aline != '':\n",
    "            column = re.split('\\s|\\s\\s|\\t|,',str(aline))\n",
    "            x.append(float(column[0]))\n",
    "            y.append(float(column[1]))\n",
    "            aline = t.readline()    \n",
    "    t.close()\n",
    "\n",
    "    cell_idx=[]\n",
    "    for idx, xi in enumerate(x): #generating a simple index based on the line number of the X coords \n",
    "        cell_idx.append(idx)\n",
    "\n",
    "    index = rtree.index.Index() #creating the spatial index\n",
    "    for pt_idx, xi, yi in zip(cell_idx,x,y):\n",
    "        index.insert(pt_idx, (xi,yi))\n",
    "\n",
    "    del(cell_idx)\n",
    "\n",
    "    cell_index = [] #equal to line number of depth file to be read afterwards\n",
    "    buffer_list = []\n",
    "    bldgs = gpd.GeoDataFrame.from_file(bldg_file)\n",
    "    bldgs_n = len(bldgs)\n",
    "    bldgs_df = gpd.GeoDataFrame(bldgs[[str(shp_field.value), 'geometry']]) #the columns 'fid' and 'geometry' need to exist as header name\n",
    "    del(bldgs)\n",
    "\n",
    "    for b_id, b_geom in zip(bldgs_df[str(shp_field.value)], bldgs_df['geometry']):\n",
    "        buffer = shape(b_geom.buffer(float(buffer_distance), resolution=10)) #create a buffer polygon for the building polygons\n",
    "        for cell in list(index.intersection(buffer.bounds)): #first check if the point is within the bounding box of a building buffer\n",
    "            cell_int = Point(x[cell], y[cell])  \n",
    "            if cell_int.intersects(buffer): #then check if the point intersects with buffer polygon\n",
    "                buffer_list.append(b_id) #store the building ID\n",
    "                cell_index.append(cell) #store the line inedex of the intersecting points\n",
    "\n",
    "    df_b = pd.DataFrame(list(zip(buffer_list, cell_index)), columns=[str(shp_field.value),'cell']) \n",
    "    df_b = df_b.sort_values(by=['cell'])    \n",
    "    print('spatial index created')\n",
    "\n",
    "    #------------------------------------------------------------------------------reading depth files\n",
    "    \n",
    "\n",
    "    for root, dirs, files in os.walk(input_folder):\n",
    "        continue\n",
    "    for i, filename in enumerate(files):\n",
    "        f=open(root + '/' + filename)    \n",
    "        print('processing file: ' + str(filename))  \n",
    "        Z=[]\n",
    "        aline = f.readline().strip()       \n",
    "        aline = f.readline()\n",
    "        while aline != '':\n",
    "            column = re.split('\\s|\\s\\s|\\t|,',str(aline))\n",
    "            Z.append(float(column[2]))\n",
    "            aline = f.readline()\n",
    "        f.close()              \n",
    "\n",
    "        #--------------------------------------------------------------------------spatial intersection and classification\n",
    "        #the next line reads the depth values from the file according to cell index from above and stores the depth with the intersecting building ID\n",
    "        df = pd.DataFrame(list(zip(itemgetter(*cell_index)(Z),buffer_list)), columns=['depth',str(shp_field.value)]) \n",
    "        del(Z)\n",
    "\n",
    "        #based on the building ID the mean and maximum depth are established and stored in a new data frame:\n",
    "        max_depth = pd.DataFrame(df.groupby([str(shp_field.value)])['depth'].max().astype(float)).round(3).reset_index(level=0).rename(columns={'depth':'max_depth'})\n",
    "        mean_depth = pd.DataFrame(df.groupby([str(shp_field.value)])['depth'].mean().astype(float)).round(3).reset_index(level=0).rename(columns={'depth':'mean_depth'}) \n",
    "        categ_df = pd.merge(max_depth, mean_depth)\n",
    "        del(max_depth, mean_depth)\n",
    "\n",
    "        #classify the building according the threshold values\n",
    "        categ_df['class'] = 'A) Low'\n",
    "        categ_df['class'][(categ_df['mean_depth'] >= 0) & (categ_df['mean_depth'] < 0.15) & (categ_df['max_depth'] < 0.3)] = 'A) Low'\n",
    "        categ_df['class'][(categ_df['mean_depth'] >= 0) & (categ_df['mean_depth'] < 0.15) & (categ_df['max_depth'] >= 0.3)] = 'B) Medium'\n",
    "        categ_df['class'][(categ_df['mean_depth'] >= 0.15) & (categ_df['mean_depth'] < 0.3) & (categ_df['max_depth'] < 0.3)] = 'B) Medium' \n",
    "        categ_df['class'][(categ_df['mean_depth'] >= 0.15) & (categ_df['max_depth'] >= 0.3)] = 'C) High'                                                                                               \n",
    "\n",
    "        #------------------------------------------------------------------------------merge results with a copy of the building layer and create output files\n",
    "        bldgs_data = gpd.read_file(bldg_file)\n",
    "        bldgs_df = gpd.GeoDataFrame(bldgs_data[[str(shp_field.value), 'geometry']])\n",
    "        finalf = bldgs_df.merge(categ_df, on=str(shp_field.value), how='left') #the merging of the building shapefile and the categoty dataframe into the final file\n",
    "        finalf.fillna('A) Low', inplace=True)\n",
    "        finalf['area'] = (finalf.area).astype(int) #calculate the area for each building\n",
    "        finalf.to_file(os.path.dirname(input_folder) + '/Outputs_Events/' + str(filename.split('.')[0]) + '_floodrisk.shp')\n",
    "        cat_low = (finalf['class'] == 'A) Low').sum()\n",
    "        cat_medium = (finalf['class'] == 'B) Medium').sum()        \n",
    "        cat_high = (finalf['class'] == 'C) High').sum()\n",
    "        del(categ_df)\n",
    "\n",
    "        del(finalf['geometry'])\n",
    "        finalf_csv = pd.DataFrame(finalf)\n",
    "        finalf_csv.to_csv(os.path.dirname(input_folder) + '/Outputs_Events/' + str(filename.split('.')[0]) + '_floodrisk.csv')\n",
    "\n",
    "        del(bldgs_data,bldgs_df,finalf,finalf_csv,df)     \n",
    "\n",
    "\n",
    "        with open(os.path.dirname(input_folder) + '/Outputs_Events/' + str(filename.split('.')[0]) + '_summary.txt', 'w') as sum_results:\n",
    "            sum_results.write('Summary of Exposure Analysis for: ' + str(filename) + '\\n\\n'                    \n",
    "                    + 'Input folder: ' + str(input_folder) + '\\n'\n",
    "                    + 'Building file: ' + str(bldg_file) + '\\n\\n'\n",
    "                    + 'Number of depth files: ' + str(len(file_count)) + '\\n'\n",
    "                    + 'Number of buildings: ' + str(bldgs_n) + '\\n'\n",
    "                    + 'Grid resolution: ' + str(dx) +'m'+ '\\n'\n",
    "                    + 'Buffer distance: ' + str(buffer_value.value) +'% or ' +str(buffer_distance) +'m'+ '\\n\\n' \n",
    "                    + 'Low: ' + str(cat_low) + '\\n'\n",
    "                    + 'Medium: ' +str(cat_medium) + '\\n'\n",
    "                    + 'High: ' +str(cat_high) + '\\n\\n')\n",
    "            sum_results.close()\n",
    "\n",
    "    del(x,y)  \n",
    "    del(buffer_list,cell_index,df_b)         \n",
    "    print('Finished. Time required: ' + str(datetime.datetime.now() - T_start)[:-4])\n",
    "    \n",
    "button_1 = widgets.Button(description='Process data')\n",
    "button_1.on_click(process_data)\n",
    "button_1.width = '20%'\n",
    "display(button_1)"
   ]
  },
  {
   "cell_type": "code",
   "execution_count": null,
   "metadata": {
    "collapsed": true,
    "deletable": true,
    "editable": true
   },
   "outputs": [],
   "source": []
  }
 ],
 "metadata": {
  "kernelspec": {
   "display_name": "Python 3",
   "language": "python",
   "name": "python3"
  },
  "language_info": {
   "codemirror_mode": {
    "name": "ipython",
    "version": 3
   },
   "file_extension": ".py",
   "mimetype": "text/x-python",
   "name": "python",
   "nbconvert_exporter": "python",
   "pygments_lexer": "ipython3",
   "version": "3.5.2"
  }
 },
 "nbformat": 4,
 "nbformat_minor": 2
}
